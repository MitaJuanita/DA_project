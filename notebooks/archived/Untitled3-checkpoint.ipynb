{
 "cells": [
  {
   "cell_type": "markdown",
   "id": "f2b2111c-b5ad-485a-9d67-43db254b0d99",
   "metadata": {},
   "source": [
    "## Overview\n",
    "\n",
    "This project demonstrates an end-to-end approach to healthcare data analytics by:\n",
    "- **Designing and managing** a relational database (PostgreSQL) for healthcare data.\n",
    "- **Writing and optimizing SQL queries** to generate insights (e.g., readmission rates, common diagnoses).\n",
    "- **Performing data analysis** with Python for data cleaning, visualization, and predictive modeling.\n",
    "- **Building interactive dashboards** using Power BI to communicate key findings.\n"
   ]
  },
  {
   "cell_type": "markdown",
   "id": "8b3fe17a-fb99-4f2d-9469-3dcb303980f9",
   "metadata": {},
   "source": [
    "## Features\n",
    "\n",
    "- **SQL Queries:** Examples of advanced JOINs, window functions, and aggregations on patient data.\n",
    "- **Python EDA & Modeling:** Jupyter notebooks detailing data wrangling, exploratory analysis, and a sample logistic regression model for readmission prediction.\n",
    "- **Data Simulation:** Use of Python Faker to generate realistic dummy datasets for demonstration and training.\n",
    "- **Dashboard:** An interactive Power BI dashboard showcasing KPI trends (readmissions, length of stay, etc.).\n",
    "\n",
    "---\n",
    "\n",
    "## Tech Stack\n",
    "\n",
    "- **Database:** PostgreSQL 14+  \n",
    "- **Programming Language:** Python 3.13+ (libraries include `pandas`, `sqlalchemy`, `matplotlib`, `scikit-learn`, `faker`)\n"
   ]
  },
  {
   "cell_type": "markdown",
   "id": "f59867ee-2e3f-4a66-b391-e6d5721a1963",
   "metadata": {},
   "source": [
    "## Database Setup\n",
    "\n",
    "- **Datasets Overview:**  \n",
    "  - **Patient_vitals.csv:** Clinical measurements (e.g., BMI, heart rate, blood pressure).  \n",
    "  - **Encounters.csv:** In-patient hospital admission details (admission/discharge dates, diagnosis codes).  \n",
    "  - **Telemedicine_encounters.csv:** Remote consultation records (appointment dates, contact methods).  \n",
    "  - **Patient_RX.csv:** Medication history (e.g., drugs for diabetes, hypertension).\n"
   ]
  },
  {
   "cell_type": "markdown",
   "id": "052b7003-e56b-4721-ab41-5234585219ba",
   "metadata": {},
   "source": [
    "## Data Analysis with Python\n",
    "\n",
    "### Project 2: Predictive Modeling for Readmission Risk\n",
    "\n",
    "- **Objective:** Predict the likelihood of a patient being readmitted within 30 days.\n",
    "- **Data Integration:** Merging data from Patient_vitals, Encounters, and Patient_RX.\n",
    "- **Key Steps:**  \n",
    "  - **Data Cleaning:** Handle missing values, encode categorical variables, and standardize numerical values.\n",
    "  - **Feature Engineering:**  \n",
    "    - *Length of Stay* (derived from Admission_Date and Discharge_Date).  \n",
    "    - *Time to Follow-Up* (difference between Discharge_Date and subsequent encounter date).  \n",
    "    - *Medication Count* (number of medications prescribed).  \n",
    "    - *Vital Sign Metrics* (BMI, heart rate, blood pressure).\n",
    "  - **Modeling:**  \n",
    "    - Target Variable: Readmission within 30 days.\n",
    "    - Model: Logistic Regression (80/20 train-test split).\n",
    "    - Evaluation: Accuracy, ROC AUC, and feature importance analysis.\n"
   ]
  },
  {
   "cell_type": "markdown",
   "id": "5b760bb7-303f-498b-9b10-68bebd13e125",
   "metadata": {},
   "source": [
    " **Data Cleaning:** Handle missing values, encode categorical variables, and standardize numerical values. \n",
    "In this scenario, we're using Python to merge three data sets on the shared key \"patient_id.\" "
   ]
  },
  {
   "cell_type": "code",
   "execution_count": null,
   "id": "f6b5945b-272a-4848-8a92-812371215224",
   "metadata": {},
   "outputs": [],
   "source": [
    "import pandas as pd\n",
    "\n",
    "encounters_df = pd.read_csv(\"tests/encounters.csv\")\n",
    "patient_vitals_df = pd.read_csv(\"tests/patient_vitals.csv\")\n",
    "patient_rx_df = pd.read_csv(\"tests/patient_rx.csv\")\n",
    "\n",
    "merged_1 = pd.merge(\n",
    "    encounters_df,\n",
    "    patient_vitals_df,\n",
    "    on=\"patient_id\",   # shared key column name\n",
    "    how=\"left\"        \n",
    ")\n",
    "merged_df = pd.merge(\n",
    "    merged_1,\n",
    "    patient_rx_df,\n",
    "    on=\"patient_id\",\n",
    "    how=\"left\"\n",
    ")\n",
    "\n",
    "# Show a summary of the DataFrame (column types, non-null counts)\n",
    "merged_df.info()\n",
    "\n",
    "# Basic descriptive statistics for numeric columns\n",
    "merged_df.describe()\n",
    "\n",
    "# Show first few rows\n",
    "merged_df.head()\n",
    "\n",
    "# Show last few rows\n",
    "merged_df.tail()\n",
    "\n",
    "# Random sample of 5 rows\n",
    "merged_df.sample(5)\n",
    "\n",
    "# Shape (rows, columns)\n",
    "merged_df.shape\n",
    "\n",
    "# Column names\n",
    "merged_df.columns\n",
    "\n",
    "# Data types of each column\n",
    "merged_df.dtypes\n",
    "\n",
    "# Count missing values in each column\n",
    "merged_df.isnull().sum()\n",
    "\n",
    "# Number of unique values in each column\n",
    "merged_df.nunique()\n"
   ]
  },
  {
   "cell_type": "markdown",
   "id": "471a258b-06ed-4ffe-a755-ae0b54e8f6fd",
   "metadata": {},
   "source": [
    "Data columns (total 23 columns):\n",
    " #   Column                 Non-Null Count  Dtype  \n",
    "---  ------                 --------------  -----  \n",
    " 0   patient_id             502 non-null    int64  \n",
    " 1   encounter_id           502 non-null    object \n",
    " 2   admission_date         502 non-null    object \n",
    " 3   discharge_date         502 non-null    object \n",
    " 4   diagnosis_code         411 non-null    object \n",
    " 5   diagnosis_desc         502 non-null    object \n",
    " 6   procedure              502 non-null    object \n",
    " 7   attending_physician    502 non-null    object \n",
    " 8   hospital_department    502 non-null    object \n",
    " 9   encounter_summary      502 non-null    object \n",
    " 10  age                    502 non-null    int64  \n",
    " 11  gender                 502 non-null    object \n",
    " 12  blood_type             502 non-null    object \n",
    " 13  height (cm)            502 non-null    float64\n",
    " 14  weight (kg)            502 non-null    float64\n",
    " 15  BMI                    502 non-null    float64\n",
    " 16  temperature (C)        502 non-null    float64\n",
    " 17  heart_rate (bpm)       502 non-null    int64  \n",
    " 18  blood_pressure (mmHg)  502 non-null    object \n",
    " 19  weight_loss_drug       47 non-null     object \n",
    " 20  hypertension_drug      42 non-null     object \n",
    " 21  diabetes_drug          40 non-null     object \n",
    " 22  cholesterol_drug       44 non-null     object \n",
    "\n",
    "dtypes: float64(4), int64(3), object(16)\n",
    "memory usage: 90.3+ KB"
   ]
  }
 ],
 "metadata": {
  "kernelspec": {
   "display_name": "Python 3 (ipykernel)",
   "language": "python",
   "name": "python3"
  },
  "language_info": {
   "codemirror_mode": {
    "name": "ipython",
    "version": 3
   },
   "file_extension": ".py",
   "mimetype": "text/x-python",
   "name": "python",
   "nbconvert_exporter": "python",
   "pygments_lexer": "ipython3",
   "version": "3.13.2"
  }
 },
 "nbformat": 4,
 "nbformat_minor": 5
}
