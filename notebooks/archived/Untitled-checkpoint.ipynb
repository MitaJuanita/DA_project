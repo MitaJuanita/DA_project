{
 "cells": [
  {
   "cell_type": "markdown",
   "id": "303758d4-9221-44a8-8040-f08de325424f",
   "metadata": {},
   "source": [
    "# Project 1\n",
    "\n",
    "In this scenario, we've been asked to identify patients that are eligible for a clinical trial based on the following criteria: \n",
    "\n",
    "-- Group A\n",
    "    Age: 18–30\n",
    "    Taking a weight-loss drug\n",
    "    Diagnosed with diabetes (assume ICD-10 code “E11”)\n",
    "    Admitted in the last 6 months\n",
    "\n",
    "--Group B\n",
    "    Age: Over 30\n",
    "    Taking a weight-loss drug\n",
    "    Diagnosed with hypertension (assume ICD-10 code “I10”)\n",
    "    Admitted in the last 12 months\n",
    "\n",
    "We're provided with three different data sets:\n",
    "\n",
    "Table Structures\n",
    "patient_vitals\n",
    "\n",
    "Patient_ID\n",
    "Age, Gender, Blood_Type, Height, Weight, BMI, etc.\n",
    "patient_rx (medication info)\n",
    "\n",
    "Patient_ID\n",
    "Weight_Loss_Drug, Hypertension_Drug, Diabetes_Drug, etc. (e.g., 'Y' or 'N')\n",
    "encounters\n",
    "\n",
    "Patient_ID\n",
    "Encounter_ID, Admission_Date, Discharge_Date, Diagnosis_Code, etc.\n"
   ]
  },
  {
   "cell_type": "markdown",
   "id": "6a91d812-11cc-4fc9-a214-7b8238da91fd",
   "metadata": {},
   "source": [
    "Approach: \n",
    "\n",
    "1. All three tables are joined using PATIENT_ID\n",
    "2. CASE block is used to check against the given inclusion criteria\n",
    "3. The patient is sorted into trial_group Group A or Group B if the criteria is met or marked \"Not Eligible.\" "
   ]
  },
  {
   "cell_type": "code",
   "execution_count": null,
   "id": "4e2f90a9-2ec0-465f-8785-8ea18722a2bd",
   "metadata": {},
   "outputs": [],
   "source": [
    "SELECT \n",
    "    v.Patient_ID,\n",
    "    e.Encounter_ID,\n",
    "    e.Admission_Date,\n",
    "    e.Diagnosis_Code,\n",
    "    CASE\n",
    "        WHEN \n",
    "            -- Group A conditions\n",
    "            v.Age BETWEEN 18 AND 30\n",
    "            AND rx.Weight_Loss_Drug = 'Y'\n",
    "            AND e.Diagnosis_Code = 'E11'  -- Diabetes\n",
    "            AND e.Admission_Date >= CURRENT_DATE - INTERVAL '6 months'\n",
    "        THEN 'Group A'\n",
    "\n",
    "        WHEN \n",
    "            -- Group B conditions\n",
    "            v.Age > 30\n",
    "            AND rx.Weight_Loss_Drug = 'Y'\n",
    "            AND e.Diagnosis_Code = 'I10'  -- Hypertension\n",
    "            AND e.Admission_Date >= CURRENT_DATE - INTERVAL '12 months'\n",
    "        THEN 'Group B'\n",
    "\n",
    "        ELSE 'Not eligible'\n",
    "    END AS trial_group\n",
    "\n",
    "FROM patient_vitals v\n",
    "JOIN patient_rx rx \n",
    "      ON v.Patient_ID = rx.Patient_ID\n",
    "JOIN encounters e \n",
    "      ON v.Patient_ID = e.Patient_ID\n"
   ]
  }
 ],
 "metadata": {
  "kernelspec": {
   "display_name": "Python 3 (ipykernel)",
   "language": "python",
   "name": "python3"
  },
  "language_info": {
   "codemirror_mode": {
    "name": "ipython",
    "version": 3
   },
   "file_extension": ".py",
   "mimetype": "text/x-python",
   "name": "python",
   "nbconvert_exporter": "python",
   "pygments_lexer": "ipython3",
   "version": "3.13.2"
  }
 },
 "nbformat": 4,
 "nbformat_minor": 5
}
