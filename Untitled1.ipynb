{
 "cells": [
  {
   "cell_type": "code",
   "execution_count": 1,
   "id": "c02de8d7-7058-4b3e-ab8f-8da20c442104",
   "metadata": {},
   "outputs": [
    {
     "ename": "ModuleNotFoundError",
     "evalue": "No module named 'pandas'",
     "output_type": "error",
     "traceback": [
      "\u001b[31m---------------------------------------------------------------------------\u001b[39m",
      "\u001b[31mModuleNotFoundError\u001b[39m                       Traceback (most recent call last)",
      "\u001b[36mCell\u001b[39m\u001b[36m \u001b[39m\u001b[32mIn[1]\u001b[39m\u001b[32m, line 3\u001b[39m\n\u001b[32m      1\u001b[39m \u001b[38;5;66;03m# trial_eligibility_summary.ipynb (for use in Jupyter)\u001b[39;00m\n\u001b[32m----> \u001b[39m\u001b[32m3\u001b[39m \u001b[38;5;28;01mimport\u001b[39;00m\u001b[38;5;250m \u001b[39m\u001b[34;01mpandas\u001b[39;00m\u001b[38;5;250m \u001b[39m\u001b[38;5;28;01mas\u001b[39;00m\u001b[38;5;250m \u001b[39m\u001b[34;01mpd\u001b[39;00m\n\u001b[32m      4\u001b[39m \u001b[38;5;28;01mimport\u001b[39;00m\u001b[38;5;250m \u001b[39m\u001b[34;01mmatplotlib\u001b[39;00m\u001b[34;01m.\u001b[39;00m\u001b[34;01mpyplot\u001b[39;00m\u001b[38;5;250m \u001b[39m\u001b[38;5;28;01mas\u001b[39;00m\u001b[38;5;250m \u001b[39m\u001b[34;01mplt\u001b[39;00m\n\u001b[32m      5\u001b[39m \u001b[38;5;28;01mfrom\u001b[39;00m\u001b[38;5;250m \u001b[39m\u001b[34;01mtrial_eligibility\u001b[39;00m\u001b[38;5;250m \u001b[39m\u001b[38;5;28;01mimport\u001b[39;00m load_patient_data, load_trial_criteria, assign_trial_groups\n",
      "\u001b[31mModuleNotFoundError\u001b[39m: No module named 'pandas'"
     ]
    }
   ],
   "source": [
    "# trial_eligibility_summary.ipynb (for use in Jupyter)\n",
    "\n",
    "import pandas as pd\n",
    "import matplotlib.pyplot as plt\n",
    "from trial_eligibility import load_patient_data, load_trial_criteria, assign_trial_groups\n",
    "\n",
    "# Step 1: Load data\n",
    "patients = load_patient_data()\n",
    "criteria = load_trial_criteria()\n",
    "\n",
    "# Step 2: Run assignment with reason tracking\n",
    "results = assign_trial_groups(patients, criteria, return_reasons=True)\n",
    "\n",
    "# Step 3: View eligible patients\n",
    "eligible_patients = results[results['eligible']]\n",
    "display(eligible_patients)\n",
    "\n",
    "# Step 4: View ineligible patients with reasons\n",
    "ineligible = results[~results['eligible'] & results['ineligibility_reason'].notna()]\n",
    "display(ineligible[['Patient_ID', 'trial_group', 'ineligibility_reason']])\n",
    "\n",
    "# Step 5: Explode and count ineligibility reasons\n",
    "ineligible_exploded = ineligible.copy()\n",
    "ineligible_exploded['reason_list'] = ineligible_exploded['ineligibility_reason'].str.split('; ')\n",
    "reason_counts = ineligible_exploded.explode('reason_list')['reason_list'].value_counts()\n",
    "\n",
    "# Step 6: Plot reasons\n",
    "plt.figure(figsize=(8, 5))\n",
    "reason_counts.plot(kind='barh', color='salmon', edgecolor='black')\n",
    "plt.title(\"Top Ineligibility Reasons\")\n",
    "plt.xlabel(\"Number of Patients\")\n",
    "plt.ylabel(\"Reason\")\n",
    "plt.tight_layout()\n",
    "plt.grid(axis='x', linestyle='--', alpha=0.5)\n",
    "plt.show()\n"
   ]
  },
  {
   "cell_type": "code",
   "execution_count": null,
   "id": "d9309097-37c4-4011-8abc-27a8a1043bfa",
   "metadata": {},
   "outputs": [],
   "source": []
  }
 ],
 "metadata": {
  "kernelspec": {
   "display_name": "Python 3 (ipykernel)",
   "language": "python",
   "name": "python3"
  },
  "language_info": {
   "codemirror_mode": {
    "name": "ipython",
    "version": 3
   },
   "file_extension": ".py",
   "mimetype": "text/x-python",
   "name": "python",
   "nbconvert_exporter": "python",
   "pygments_lexer": "ipython3",
   "version": "3.13.2"
  }
 },
 "nbformat": 4,
 "nbformat_minor": 5
}
