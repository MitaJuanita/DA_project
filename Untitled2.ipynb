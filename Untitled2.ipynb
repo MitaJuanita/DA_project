{
 "cells": [
  {
   "cell_type": "code",
   "execution_count": null,
   "id": "1531f635-f490-46b4-a68e-deff30fa59b2",
   "metadata": {},
   "outputs": [],
   "source": [
    "# trial_eligibility_summary.ipynb (for use in Jupyter)\n",
    "\n",
    "import pandas as pd\n",
    "import matplotlib.pyplot as plt\n",
    "from trial_eligibility import load_patient_data, load_trial_criteria, assign_trial_groups\n",
    "\n",
    "# Step 1: Load data\n",
    "patients = load_patient_data()\n",
    "criteria = load_trial_criteria()\n",
    "\n",
    "# Step 2: Run assignment with reason tracking\n",
    "results = assign_trial_groups(patients, criteria, return_reasons=True)\n",
    "\n",
    "# Step 3: View eligible patients\n",
    "eligible_patients = results[results['eligible']]\n",
    "display(eligible_patients)\n",
    "\n",
    "# Step 4: View ineligible patients with reasons\n",
    "ineligible = results[~results['eligible'] & results['ineligibility_reason'].notna()]\n",
    "display(ineligible[['Patient_ID', 'trial_group', 'ineligibility_reason']])\n",
    "\n",
    "# Step 5: Explode and count ineligibility reasons\n",
    "ineligible_exploded = ineligible.copy()\n",
    "ineligible_exploded['reason_list'] = ineligible_exploded['ineligibility_reason'].str.split('; ')\n",
    "reason_counts = ineligible_exploded.explode('reason_list')['reason_list'].value_counts()\n",
    "\n",
    "# Step 6: Plot reasons\n",
    "plt.figure(figsize=(8, 5))\n",
    "reason_counts.plot(kind='barh', color='salmon', edgecolor='black')\n",
    "plt.title(\"Top Ineligibility Reasons\")\n",
    "plt.xlabel(\"Number of Patients\")\n",
    "plt.ylabel(\"Reason\")\n",
    "plt.tight_layout()\n",
    "plt.grid(axis='x', linestyle='--', alpha=0.5)\n",
    "plt.show()\n"
   ]
  }
 ],
 "metadata": {
  "kernelspec": {
   "display_name": "Python 3 (ipykernel)",
   "language": "python",
   "name": "python3"
  },
  "language_info": {
   "codemirror_mode": {
    "name": "ipython",
    "version": 3
   },
   "file_extension": ".py",
   "mimetype": "text/x-python",
   "name": "python",
   "nbconvert_exporter": "python",
   "pygments_lexer": "ipython3",
   "version": "3.13.2"
  }
 },
 "nbformat": 4,
 "nbformat_minor": 5
}
