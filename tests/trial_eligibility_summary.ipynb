{
 "cells": [
  {
   "cell_type": "code",
   "execution_count": null,
   "id": "382c1e9c-bc0b-4485-8fe9-55316191aced",
   "metadata": {},
   "outputs": [],
   "source": []
  },
  {
   "cell_type": "code",
   "execution_count": null,
   "id": "1531f635-f490-46b4-a68e-deff30fa59b2",
   "metadata": {
    "scrolled": true
   },
   "outputs": [
    {
     "ename": "ModuleNotFoundError",
     "evalue": "No module named 'pandas'",
     "output_type": "error",
     "traceback": [
      "\u001b[31m---------------------------------------------------------------------------\u001b[39m",
      "\u001b[31mModuleNotFoundError\u001b[39m                       Traceback (most recent call last)",
      "\u001b[36mCell\u001b[39m\u001b[36m \u001b[39m\u001b[32mIn[4]\u001b[39m\u001b[32m, line 1\u001b[39m\n\u001b[32m----> \u001b[39m\u001b[32m1\u001b[39m \u001b[38;5;28;01mimport\u001b[39;00m\u001b[38;5;250m \u001b[39m\u001b[34;01mpandas\u001b[39;00m\u001b[38;5;250m \u001b[39m\u001b[38;5;28;01mas\u001b[39;00m\u001b[38;5;250m \u001b[39m\u001b[34;01mpd\u001b[39;00m\n\u001b[32m      2\u001b[39m \u001b[38;5;28;01mimport\u001b[39;00m\u001b[38;5;250m \u001b[39m\u001b[34;01mmatplotlib\u001b[39;00m\u001b[34;01m.\u001b[39;00m\u001b[34;01mpyplot\u001b[39;00m\u001b[38;5;250m \u001b[39m\u001b[38;5;28;01mas\u001b[39;00m\u001b[38;5;250m \u001b[39m\u001b[34;01mplt\u001b[39;00m\n\u001b[32m      4\u001b[39m \u001b[38;5;66;03m# Local versions of trial eligibility logic (replace these with proper imports if modularized)\u001b[39;00m\n",
      "\u001b[31mModuleNotFoundError\u001b[39m: No module named 'pandas'"
     ]
    }
   ],
   "source": [
    "import pandas as pd\n",
    "import matplotlib.pyplot as plt\n",
    "import sys\n",
    "from pathlib import Path\n",
    "\n",
    "# Add the parent directory of \"test\" to the Python path\n",
    "sys.path.append(str(Path(__file__).resolve().parent.parent))\n",
    "\n",
    "# Local versions of trial eligibility logic (replace these with proper imports if modularized)\n",
    "from trial_eligibility import load_patient_data, load_trial_criteria, assign_trial_groups\n",
    "\n",
    "# Step 1: Load data\n",
    "patients = load_patient_data()\n",
    "criteria = load_trial_criteria()\n",
    "\n",
    "# Step 2: Run assignment with reason tracking\n",
    "results = assign_trial_groups(patients, criteria, return_reasons=True)\n",
    "\n",
    "# Step 3: View eligible patients\n",
    "eligible_patients = results[results['eligible']]\n",
    "display(eligible_patients)\n",
    "\n",
    "# Step 4: View ineligible patients with reasons\n",
    "ineligible = results[~results['eligible'] & results['ineligibility_reason'].notna()]\n",
    "display(ineligible[['Patient_ID', 'trial_group', 'ineligibility_reason']])\n",
    "\n",
    "# Step 5: Explode and count ineligibility reasons\n",
    "ineligible_exploded = ineligible.copy()\n",
    "ineligible_exploded['reason_list'] = ineligible_exploded['ineligibility_reason'].str.split('; ')\n",
    "reason_counts = ineligible_exploded.explode('reason_list')['reason_list'].value_counts()\n",
    "\n",
    "# Step 6: Plot reasons and export\n",
    "plt.figure(figsize=(8, 5))\n",
    "reason_counts.plot(kind='barh', color='salmon', edgecolor='black')\n",
    "plt.title(\"Top Ineligibility Reasons\")\n",
    "plt.xlabel(\"Number of Patients\")\n",
    "plt.ylabel(\"Reason\")\n",
    "plt.tight_layout()\n",
    "plt.grid(axis='x', linestyle='--', alpha=0.5)\n",
    "\n",
    "# Save as image\n",
    "plt.savefig(\"ineligibility_reasons.png\", dpi=300, bbox_inches='tight')\n",
    "plt.show()\n"
   ]
  }
 ],
 "metadata": {
  "kernelspec": {
   "display_name": "Python 3 (ipykernel)",
   "language": "python",
   "name": "python3"
  },
  "language_info": {
   "codemirror_mode": {
    "name": "ipython",
    "version": 3
   },
   "file_extension": ".py",
   "mimetype": "text/x-python",
   "name": "python",
   "nbconvert_exporter": "python",
   "pygments_lexer": "ipython3",
   "version": "3.13.2"
  }
 },
 "nbformat": 4,
 "nbformat_minor": 5
}
